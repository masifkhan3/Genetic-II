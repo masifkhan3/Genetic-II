{
  "nbformat": 4,
  "nbformat_minor": 0,
  "metadata": {
    "colab": {
      "provenance": [],
      "gpuType": "T4",
      "authorship_tag": "ABX9TyMjh4MefPJIAnC1LGimVR8r",
      "include_colab_link": true
    },
    "kernelspec": {
      "name": "python3",
      "display_name": "Python 3"
    },
    "language_info": {
      "name": "python"
    },
    "accelerator": "GPU"
  },
  "cells": [
    {
      "cell_type": "markdown",
      "metadata": {
        "id": "view-in-github",
        "colab_type": "text"
      },
      "source": [
        "<a href=\"https://colab.research.google.com/github/masifkhan3/Genetic-II/blob/main/Genetic_II.ipynb\" target=\"_parent\"><img src=\"https://colab.research.google.com/assets/colab-badge.svg\" alt=\"Open In Colab\"/></a>"
      ]
    },
    {
      "cell_type": "code",
      "execution_count": 20,
      "metadata": {
        "colab": {
          "base_uri": "https://localhost:8080/"
        },
        "id": "E124LaQPqLvR",
        "outputId": "69e8d057-7384-4107-f58f-2005ae646d8e"
      },
      "outputs": [
        {
          "output_type": "stream",
          "name": "stdout",
          "text": [
            "Requirement already satisfied: transformers in /usr/local/lib/python3.10/dist-packages (4.46.2)\n",
            "Requirement already satisfied: faiss-cpu in /usr/local/lib/python3.10/dist-packages (1.9.0)\n",
            "Requirement already satisfied: datasets in /usr/local/lib/python3.10/dist-packages (3.1.0)\n",
            "Requirement already satisfied: pandas in /usr/local/lib/python3.10/dist-packages (2.2.2)\n",
            "Requirement already satisfied: filelock in /usr/local/lib/python3.10/dist-packages (from transformers) (3.16.1)\n",
            "Requirement already satisfied: huggingface-hub<1.0,>=0.23.2 in /usr/local/lib/python3.10/dist-packages (from transformers) (0.26.2)\n",
            "Requirement already satisfied: numpy>=1.17 in /usr/local/lib/python3.10/dist-packages (from transformers) (1.26.4)\n",
            "Requirement already satisfied: packaging>=20.0 in /usr/local/lib/python3.10/dist-packages (from transformers) (24.2)\n",
            "Requirement already satisfied: pyyaml>=5.1 in /usr/local/lib/python3.10/dist-packages (from transformers) (6.0.2)\n",
            "Requirement already satisfied: regex!=2019.12.17 in /usr/local/lib/python3.10/dist-packages (from transformers) (2024.9.11)\n",
            "Requirement already satisfied: requests in /usr/local/lib/python3.10/dist-packages (from transformers) (2.32.3)\n",
            "Requirement already satisfied: safetensors>=0.4.1 in /usr/local/lib/python3.10/dist-packages (from transformers) (0.4.5)\n",
            "Requirement already satisfied: tokenizers<0.21,>=0.20 in /usr/local/lib/python3.10/dist-packages (from transformers) (0.20.3)\n",
            "Requirement already satisfied: tqdm>=4.27 in /usr/local/lib/python3.10/dist-packages (from transformers) (4.66.6)\n",
            "Requirement already satisfied: pyarrow>=15.0.0 in /usr/local/lib/python3.10/dist-packages (from datasets) (17.0.0)\n",
            "Requirement already satisfied: dill<0.3.9,>=0.3.0 in /usr/local/lib/python3.10/dist-packages (from datasets) (0.3.8)\n",
            "Requirement already satisfied: xxhash in /usr/local/lib/python3.10/dist-packages (from datasets) (3.5.0)\n",
            "Requirement already satisfied: multiprocess<0.70.17 in /usr/local/lib/python3.10/dist-packages (from datasets) (0.70.16)\n",
            "Requirement already satisfied: fsspec<=2024.9.0,>=2023.1.0 in /usr/local/lib/python3.10/dist-packages (from fsspec[http]<=2024.9.0,>=2023.1.0->datasets) (2024.9.0)\n",
            "Requirement already satisfied: aiohttp in /usr/local/lib/python3.10/dist-packages (from datasets) (3.10.10)\n",
            "Requirement already satisfied: python-dateutil>=2.8.2 in /usr/local/lib/python3.10/dist-packages (from pandas) (2.8.2)\n",
            "Requirement already satisfied: pytz>=2020.1 in /usr/local/lib/python3.10/dist-packages (from pandas) (2024.2)\n",
            "Requirement already satisfied: tzdata>=2022.7 in /usr/local/lib/python3.10/dist-packages (from pandas) (2024.2)\n",
            "Requirement already satisfied: aiohappyeyeballs>=2.3.0 in /usr/local/lib/python3.10/dist-packages (from aiohttp->datasets) (2.4.3)\n",
            "Requirement already satisfied: aiosignal>=1.1.2 in /usr/local/lib/python3.10/dist-packages (from aiohttp->datasets) (1.3.1)\n",
            "Requirement already satisfied: attrs>=17.3.0 in /usr/local/lib/python3.10/dist-packages (from aiohttp->datasets) (24.2.0)\n",
            "Requirement already satisfied: frozenlist>=1.1.1 in /usr/local/lib/python3.10/dist-packages (from aiohttp->datasets) (1.5.0)\n",
            "Requirement already satisfied: multidict<7.0,>=4.5 in /usr/local/lib/python3.10/dist-packages (from aiohttp->datasets) (6.1.0)\n",
            "Requirement already satisfied: yarl<2.0,>=1.12.0 in /usr/local/lib/python3.10/dist-packages (from aiohttp->datasets) (1.17.1)\n",
            "Requirement already satisfied: async-timeout<5.0,>=4.0 in /usr/local/lib/python3.10/dist-packages (from aiohttp->datasets) (4.0.3)\n",
            "Requirement already satisfied: typing-extensions>=3.7.4.3 in /usr/local/lib/python3.10/dist-packages (from huggingface-hub<1.0,>=0.23.2->transformers) (4.12.2)\n",
            "Requirement already satisfied: six>=1.5 in /usr/local/lib/python3.10/dist-packages (from python-dateutil>=2.8.2->pandas) (1.16.0)\n",
            "Requirement already satisfied: charset-normalizer<4,>=2 in /usr/local/lib/python3.10/dist-packages (from requests->transformers) (3.4.0)\n",
            "Requirement already satisfied: idna<4,>=2.5 in /usr/local/lib/python3.10/dist-packages (from requests->transformers) (3.10)\n",
            "Requirement already satisfied: urllib3<3,>=1.21.1 in /usr/local/lib/python3.10/dist-packages (from requests->transformers) (2.2.3)\n",
            "Requirement already satisfied: certifi>=2017.4.17 in /usr/local/lib/python3.10/dist-packages (from requests->transformers) (2024.8.30)\n",
            "Requirement already satisfied: propcache>=0.2.0 in /usr/local/lib/python3.10/dist-packages (from yarl<2.0,>=1.12.0->aiohttp->datasets) (0.2.0)\n"
          ]
        }
      ],
      "source": [
        "pip install transformers faiss-cpu datasets pandas\n"
      ]
    },
    {
      "cell_type": "code",
      "source": [
        "import pandas as pd\n",
        "\n",
        "# Load your dataset\n",
        "data = pd.read_csv(\"/content/genetic-Final.csv\")\n",
        "\n",
        "# Combine columns to form a single \"text\" field for retrieval purposes\n",
        "data[\"text\"] = (\n",
        "    \"Disease Name: \" + data[\"Disease Name\"] +\n",
        "    \"\\nGene(s) Involved: \" + data[\"Gene(s) Involved\"] +\n",
        "    \"\\nInheritance Pattern: \" + data[\"Inheritance Pattern\"] +\n",
        "    \"\\nSymptoms: \" + data[\"Symptoms\"] +\n",
        "    \"\\nSeverity Level: \" + data[\"Severity Level\"] +\n",
        "    \"\\nRisk Assessment: \" + data[\"Risk Assessment\"] +\n",
        "    \"\\nTreatment Options: \" + data[\"Treatment Options\"] +\n",
        "    \"\\nSuggested Medical Tests: \" + data[\"Suggested Medical Tests\"] +\n",
        "    \"\\nMinimum Values for Medical Tests: \" + data[\"Minimum Values for Medical Tests\"] +\n",
        "    \"\\nEmergency Treatment: \" + data[\"Emergency Treatment\"]\n",
        ")\n",
        "texts = data[\"text\"].tolist()\n",
        "\n"
      ],
      "metadata": {
        "id": "D2mmG-qZsIgB"
      },
      "execution_count": 8,
      "outputs": []
    },
    {
      "cell_type": "code",
      "source": [
        "# Fill NaN values with an empty string and ensure all values are strings\n",
        "data[\"text\"] = data[\"text\"].fillna(\"\").astype(str)\n",
        "texts = data[\"text\"].tolist()\n"
      ],
      "metadata": {
        "id": "1brFL3lYtO3h"
      },
      "execution_count": 10,
      "outputs": []
    },
    {
      "cell_type": "code",
      "source": [
        "# Generate embeddings for all texts\n",
        "embeddings = [embed_text(text) for text in texts]\n"
      ],
      "metadata": {
        "id": "QOv93nWltSyO"
      },
      "execution_count": 11,
      "outputs": []
    },
    {
      "cell_type": "code",
      "source": [
        "import pandas as pd\n",
        "\n",
        "# Load your dataset\n",
        "data = pd.read_csv(\"/content/genetic-Final.csv\")\n",
        "\n",
        "# Combine columns to form a single \"text\" field for retrieval purposes\n",
        "data[\"text\"] = (\n",
        "    \"Disease Name: \" + data[\"Disease Name\"].fillna(\"\") +\n",
        "    \"\\nGene(s) Involved: \" + data[\"Gene(s) Involved\"].fillna(\"\") +\n",
        "    \"\\nInheritance Pattern: \" + data[\"Inheritance Pattern\"].fillna(\"\") +\n",
        "    \"\\nSymptoms: \" + data[\"Symptoms\"].fillna(\"\") +\n",
        "    \"\\nSeverity Level: \" + data[\"Severity Level\"].fillna(\"\") +\n",
        "    \"\\nRisk Assessment: \" + data[\"Risk Assessment\"].fillna(\"\") +\n",
        "    \"\\nTreatment Options: \" + data[\"Treatment Options\"].fillna(\"\") +\n",
        "    \"\\nSuggested Medical Tests: \" + data[\"Suggested Medical Tests\"].fillna(\"\") +\n",
        "    \"\\nMinimum Values for Medical Tests: \" + data[\"Minimum Values for Medical Tests\"].fillna(\"\") +\n",
        "    \"\\nEmergency Treatment: \" + data[\"Emergency Treatment\"].fillna(\"\")\n",
        ")\n",
        "\n",
        "# Ensure all entries in `texts` are strings\n",
        "texts = data[\"text\"].fillna(\"\").astype(str).tolist()\n",
        "\n",
        "from transformers import AutoTokenizer, AutoModel\n",
        "import torch\n",
        "import faiss\n",
        "import numpy as np\n",
        "\n",
        "# Load model and tokenizer\n",
        "tokenizer = AutoTokenizer.from_pretrained(\"sentence-transformers/all-MiniLM-L6-v2\")\n",
        "model = AutoModel.from_pretrained(\"sentence-transformers/all-MiniLM-L6-v2\")\n",
        "\n",
        "# Function to generate embeddings\n",
        "def embed_text(text):\n",
        "    inputs = tokenizer(text, return_tensors=\"pt\", padding=True, truncation=True)\n",
        "    with torch.no_grad():\n",
        "        embeddings = model(**inputs).last_hidden_state.mean(dim=1)\n",
        "    return embeddings.squeeze().numpy()\n",
        "\n",
        "# Generate embeddings for all texts\n",
        "embeddings = [embed_text(text) for text in texts]\n",
        "\n",
        "# Initialize FAISS index\n",
        "embedding_dim = embeddings[0].shape[0]\n",
        "index = faiss.IndexFlatL2(embedding_dim)\n",
        "index.add(np.array(embeddings))\n"
      ],
      "metadata": {
        "id": "ageHZmortXmK"
      },
      "execution_count": 21,
      "outputs": []
    },
    {
      "cell_type": "code",
      "source": [
        "from transformers import AutoModelForSeq2SeqLM, AutoTokenizer\n",
        "\n",
        "# Load a generator model and tokenizer\n",
        "generator_tokenizer = AutoTokenizer.from_pretrained(\"facebook/bart-large\")\n",
        "generator_model = AutoModelForSeq2SeqLM.from_pretrained(\"facebook/bart-large\")\n",
        "\n",
        "# Function to retrieve similar entries and generate a response\n",
        "def retrieve_and_generate(query, top_k=3):\n",
        "    # Generate query embedding\n",
        "    query_embedding = embed_text(query).reshape(1, -1)\n",
        "\n",
        "    # Retrieve top-k similar texts\n",
        "    distances, indices = index.search(query_embedding, top_k)\n",
        "    retrieved_texts = [texts[i] for i in indices[0]]\n",
        "\n",
        "    # Prepare input for generation by combining retrieved texts\n",
        "    context = \"\\n\\n\".join(retrieved_texts) + \"\\n\\nQuestion: \" + query\n",
        "\n",
        "    # Generate answer\n",
        "    inputs = generator_tokenizer(context, return_tensors=\"pt\", max_length=512, truncation=True)\n",
        "    outputs = generator_model.generate(**inputs, max_length=150, num_return_sequences=1)\n",
        "\n",
        "    # Decode the output\n",
        "    return generator_tokenizer.decode(outputs[0], skip_special_tokens=True)\n",
        "\n",
        "# Function to get user input and generate response\n",
        "def ask_user():\n",
        "    # Ask for input on diseases, symptoms, or medical tests\n",
        "    print(\"Welcome to the Medical Query Assistant!\")\n",
        "    disease = input(\"Enter the disease name (or press Enter to skip): \")\n",
        "    symptoms = input(\"Enter symptoms (or press Enter to skip): \")\n",
        "    medical_test = input(\"Enter medical test details (or press Enter to skip): \")\n",
        "\n",
        "    # Combine the inputs into a query\n",
        "    query = \"\"\n",
        "    if disease:\n",
        "        query += f\"Disease Name: {disease}\\n\"\n",
        "    if symptoms:\n",
        "        query += f\"Symptoms: {symptoms}\\n\"\n",
        "    if medical_test:\n",
        "        query += f\"Medical Test: {medical_test}\\n\"\n",
        "\n",
        "    # Check if any query info was provided\n",
        "    if not query.strip():\n",
        "        print(\"No input provided. Please enter at least one detail.\")\n",
        "        return ask_user()  # Recursively call the function to get input\n",
        "\n",
        "    # Generate a response based on the query\n",
        "    response = retrieve_and_generate(query)\n",
        "    print(\"Generated Response:\", response)\n",
        "\n",
        "# Start the interactive query session\n",
        "ask_user()\n"
      ],
      "metadata": {
        "colab": {
          "base_uri": "https://localhost:8080/"
        },
        "id": "2tbNANzwucTN",
        "outputId": "a39b0e95-4653-475b-ab46-a7790ba2b619"
      },
      "execution_count": 22,
      "outputs": [
        {
          "output_type": "stream",
          "name": "stdout",
          "text": [
            "Welcome to the Medical Query Assistant!\n",
            "Enter the disease name (or press Enter to skip): gsd\n",
            "Enter symptoms (or press Enter to skip): vomit\n",
            "Enter medical test details (or press Enter to skip): \n",
            "Generated Response: Disease Name: Galactosemia                Gene(s) Involved: GALT gene fixmeInheritance Pattern: Autosomal Recessive�Symptoms: Jaundice, vomiting, lethargy, developmental delays�Severity Level: Moderate                Risk Assessment: High¯¯¯¯Treatment Options: Elimination of galactose from diet,Calcium and vitamin D supplementation                Suggested Medical Tests:   Newborn screening                Minimum Values for Medical Tests,   Glucose levels in blood and urine                Emergency Treatment: IV glucose and bicarbonate during metabolic acidosis                =-=-=-=-=-=-=-=-=-=-=-=-=-=-=-=-=-=-=-=-=-=-=-=-=-=-=-=-=-=-=-=-=-=-=-=-=-=-=-=-=-=-=-=-=-=-=-=-=-=-=-=-=-=-=-=-=-=-=-=-=-=-=-=-=-=-=-=-=-=-=-=-=-=-=-=-=-=-=-=-=-=-=-=-=-=-=-=-=-\n"
          ]
        }
      ]
    },
    {
      "cell_type": "code",
      "source": [
        "pip install torch\n"
      ],
      "metadata": {
        "colab": {
          "base_uri": "https://localhost:8080/"
        },
        "id": "Ta6h6TgP2jrl",
        "outputId": "58728d51-8e5c-45d8-bf70-1ede62b1cf55"
      },
      "execution_count": 23,
      "outputs": [
        {
          "output_type": "stream",
          "name": "stdout",
          "text": [
            "Requirement already satisfied: torch in /usr/local/lib/python3.10/dist-packages (2.5.0+cu121)\n",
            "Requirement already satisfied: filelock in /usr/local/lib/python3.10/dist-packages (from torch) (3.16.1)\n",
            "Requirement already satisfied: typing-extensions>=4.8.0 in /usr/local/lib/python3.10/dist-packages (from torch) (4.12.2)\n",
            "Requirement already satisfied: networkx in /usr/local/lib/python3.10/dist-packages (from torch) (3.4.2)\n",
            "Requirement already satisfied: jinja2 in /usr/local/lib/python3.10/dist-packages (from torch) (3.1.4)\n",
            "Requirement already satisfied: fsspec in /usr/local/lib/python3.10/dist-packages (from torch) (2024.9.0)\n",
            "Requirement already satisfied: sympy==1.13.1 in /usr/local/lib/python3.10/dist-packages (from torch) (1.13.1)\n",
            "Requirement already satisfied: mpmath<1.4,>=1.1.0 in /usr/local/lib/python3.10/dist-packages (from sympy==1.13.1->torch) (1.3.0)\n",
            "Requirement already satisfied: MarkupSafe>=2.0 in /usr/local/lib/python3.10/dist-packages (from jinja2->torch) (3.0.2)\n"
          ]
        }
      ]
    },
    {
      "cell_type": "code",
      "source": [],
      "metadata": {
        "id": "QhfyzKoq4sG7"
      },
      "execution_count": null,
      "outputs": []
    }
  ]
}